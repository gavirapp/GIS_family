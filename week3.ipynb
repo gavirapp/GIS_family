{
 "cells": [
  {
   "cell_type": "markdown",
   "metadata": {},
   "source": [
    "## This note book illustrates \n",
    "\n",
    "1.  A basic GPS map created using folium package\n",
    "2.  Use of MarkerClusters"
   ]
  },
  {
   "cell_type": "code",
   "execution_count": 1,
   "metadata": {},
   "outputs": [],
   "source": [
    "import folium\n",
    "from folium.plugins import MarkerCluster"
   ]
  },
  {
   "cell_type": "code",
   "execution_count": 3,
   "metadata": {},
   "outputs": [
    {
     "data": {
      "text/html": [
       "<div style=\"width:100%;\"><div style=\"position:relative;width:100%;height:0;padding-bottom:60%;\"><span style=\"color:#565656\">Make this Notebook Trusted to load map: File -> Trust Notebook</span><iframe src=\"about:blank\" style=\"position:absolute;width:100%;height:100%;left:0;top:0;border:none !important;\" data-html=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 onload=\"this.contentDocument.open();this.contentDocument.write(atob(this.getAttribute('data-html')));this.contentDocument.close();\" allowfullscreen webkitallowfullscreen mozallowfullscreen></iframe></div></div>"
      ],
      "text/plain": [
       "<folium.folium.Map at 0x1efc0214088>"
      ]
     },
     "execution_count": 3,
     "metadata": {},
     "output_type": "execute_result"
    }
   ],
   "source": [
    "#Create a Map object from folium\n",
    "m = folium.Map([44,-73], zoom_start = 7)\n",
    "\n",
    "#Create a cluster object and add it to the map\n",
    "marker_cluster = MarkerCluster().add_to(m)\n",
    "\n",
    "#The following are markers we add the cluster\n",
    "folium.Marker(location = [43, -75],\n",
    "popup = \"First Marker\",\n",
    "icon = folium.Icon(color = 'red', icon='ok-sign')\n",
    ").add_to(marker_cluster)\n",
    "\n",
    "folium.Marker(location = [45, -73.5],\n",
    "popup = \"Second Marker\",\n",
    "icon = folium.Icon(color = 'red', icon='remove-sign')\n",
    ").add_to(marker_cluster)\n",
    "\n",
    "folium.Marker(\n",
    "    location = [45, -75],\n",
    "    popup = 'This is a cluster',\n",
    "    icon = None\n",
    ").add_to(marker_cluster)\n",
    "\n",
    "#save it to the current directory under the name:MyFirstFoliumMap.html\n",
    "m.save('MyFirstFoliumMap.html')\n",
    "\n",
    "#Zoom in and out to see what clustering does\n",
    "m\n"
   ]
  },
  {
   "cell_type": "code",
   "execution_count": null,
   "metadata": {},
   "outputs": [],
   "source": []
  }
 ],
 "metadata": {
  "kernelspec": {
   "display_name": "Python 3",
   "language": "python",
   "name": "python3"
  },
  "language_info": {
   "codemirror_mode": {
    "name": "ipython",
    "version": 3
   },
   "file_extension": ".py",
   "mimetype": "text/x-python",
   "name": "python",
   "nbconvert_exporter": "python",
   "pygments_lexer": "ipython3",
   "version": "3.7.6"
  }
 },
 "nbformat": 4,
 "nbformat_minor": 4
}
