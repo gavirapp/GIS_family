{
 "cells": [
  {
   "cell_type": "markdown",
   "metadata": {},
   "source": [
    "## This note book illustrates \n",
    "\n",
    "1.  A basic GPS map created using folium package\n",
    "2.  Use of MarkerClusters"
   ]
  },
  {
   "cell_type": "code",
   "execution_count": 1,
   "metadata": {},
   "outputs": [],
   "source": [
    "import folium\n",
    "from folium.plugins import MarkerCluster"
   ]
  },
  {
   "cell_type": "code",
   "execution_count": 2,
   "metadata": {},
   "outputs": [
    {
     "output_type": "execute_result",
     "data": {
      "text/plain": "<folium.folium.Map at 0x1e67cbefc48>",
      "text/html": "<div style=\"width:100%;\"><div style=\"position:relative;width:100%;height:0;padding-bottom:60%;\"><span style=\"color:#565656\">Make this Notebook Trusted to load map: File -> Trust Notebook</span><iframe src=\"about:blank\" style=\"position:absolute;width:100%;height:100%;left:0;top:0;border:none !important;\" data-html=PCFET0NUWVBFIGh0bWw+CjxoZWFkPiAgICAKICAgIDxtZXRhIGh0dHAtZXF1aXY9ImNvbnRlbnQtdHlwZSIgY29udGVudD0idGV4dC9odG1sOyBjaGFyc2V0PVVURi04IiAvPgogICAgCiAgICAgICAgPHNjcmlwdD4KICAgICAgICAgICAgTF9OT19UT1VDSCA9IGZhbHNlOwogICAgICAgICAgICBMX0RJU0FCTEVfM0QgPSBmYWxzZTsKICAgICAgICA8L3NjcmlwdD4KICAgIAogICAgPHNjcmlwdCBzcmM9Imh0dHBzOi8vY2RuLmpzZGVsaXZyLm5ldC9ucG0vbGVhZmxldEAxLjYuMC9kaXN0L2xlYWZsZXQuanMiPjwvc2NyaXB0PgogICAgPHNjcmlwdCBzcmM9Imh0dHBzOi8vY29kZS5qcXVlcnkuY29tL2pxdWVyeS0xLjEyLjQubWluLmpzIj48L3NjcmlwdD4KICAgIDxzY3JpcHQgc3JjPSJodHRwczovL21heGNkbi5ib290c3RyYXBjZG4uY29tL2Jvb3RzdHJhcC8zLjIuMC9qcy9ib290c3RyYXAubWluLmpzIj48L3NjcmlwdD4KICAgIDxzY3JpcHQgc3JjPSJodHRwczovL2NkbmpzLmNsb3VkZmxhcmUuY29tL2FqYXgvbGlicy9MZWFmbGV0LmF3ZXNvbWUtbWFya2Vycy8yLjAuMi9sZWFmbGV0LmF3ZXNvbWUtbWFya2Vycy5qcyI+PC9zY3JpcHQ+CiAgICA8bGluayByZWw9InN0eWxlc2hlZXQiIGhyZWY9Imh0dHBzOi8vY2RuLmpzZGVsaXZyLm5ldC9ucG0vbGVhZmxldEAxLjYuMC9kaXN0L2xlYWZsZXQuY3NzIi8+CiAgICA8bGluayByZWw9InN0eWxlc2hlZXQiIGhyZWY9Imh0dHBzOi8vbWF4Y2RuLmJvb3RzdHJhcGNkbi5jb20vYm9vdHN0cmFwLzMuMi4wL2Nzcy9ib290c3RyYXAubWluLmNzcyIvPgogICAgPGxpbmsgcmVsPSJzdHlsZXNoZWV0IiBocmVmPSJodHRwczovL21heGNkbi5ib290c3RyYXBjZG4uY29tL2Jvb3RzdHJhcC8zLjIuMC9jc3MvYm9vdHN0cmFwLXRoZW1lLm1pbi5jc3MiLz4KICAgIDxsaW5rIHJlbD0ic3R5bGVzaGVldCIgaHJlZj0iaHR0cHM6Ly9tYXhjZG4uYm9vdHN0cmFwY2RuLmNvbS9mb250LWF3ZXNvbWUvNC42LjMvY3NzL2ZvbnQtYXdlc29tZS5taW4uY3NzIi8+CiAgICA8bGluayByZWw9InN0eWxlc2hlZXQiIGhyZWY9Imh0dHBzOi8vY2RuanMuY2xvdWRmbGFyZS5jb20vYWpheC9saWJzL0xlYWZsZXQuYXdlc29tZS1tYXJrZXJzLzIuMC4yL2xlYWZsZXQuYXdlc29tZS1tYXJrZXJzLmNzcyIvPgogICAgPGxpbmsgcmVsPSJzdHlsZXNoZWV0IiBocmVmPSJodHRwczovL3Jhd2Nkbi5naXRoYWNrLmNvbS9weXRob24tdmlzdWFsaXphdGlvbi9mb2xpdW0vbWFzdGVyL2ZvbGl1bS90ZW1wbGF0ZXMvbGVhZmxldC5hd2Vzb21lLnJvdGF0ZS5jc3MiLz4KICAgIDxzdHlsZT5odG1sLCBib2R5IHt3aWR0aDogMTAwJTtoZWlnaHQ6IDEwMCU7bWFyZ2luOiAwO3BhZGRpbmc6IDA7fTwvc3R5bGU+CiAgICA8c3R5bGU+I21hcCB7cG9zaXRpb246YWJzb2x1dGU7dG9wOjA7Ym90dG9tOjA7cmlnaHQ6MDtsZWZ0OjA7fTwvc3R5bGU+CiAgICAKICAgICAgICAgICAgPG1ldGEgbmFtZT0idmlld3BvcnQiIGNvbnRlbnQ9IndpZHRoPWRldmljZS13aWR0aCwKICAgICAgICAgICAgICAgIGluaXRpYWwtc2NhbGU9MS4wLCBtYXhpbXVtLXNjYWxlPTEuMCwgdXNlci1zY2FsYWJsZT1ubyIgLz4KICAgICAgICAgICAgPHN0eWxlPgogICAgICAgICAgICAgICAgI21hcF8wNjIyMjBiZWU3ZGE0ZDY2OGJmMDIxNmVjY2Q0MDQwOCB7CiAgICAgICAgICAgICAgICAgICAgcG9zaXRpb246IHJlbGF0aXZlOwogICAgICAgICAgICAgICAgICAgIHdpZHRoOiAxMDAuMCU7CiAgICAgICAgICAgICAgICAgICAgaGVpZ2h0OiAxMDAuMCU7CiAgICAgICAgICAgICAgICAgICAgbGVmdDogMC4wJTsKICAgICAgICAgICAgICAgICAgICB0b3A6IDAuMCU7CiAgICAgICAgICAgICAgICB9CiAgICAgICAgICAgIDwvc3R5bGU+CiAgICAgICAgCiAgICA8c2NyaXB0IHNyYz0iaHR0cHM6Ly9jZG5qcy5jbG91ZGZsYXJlLmNvbS9hamF4L2xpYnMvbGVhZmxldC5tYXJrZXJjbHVzdGVyLzEuMS4wL2xlYWZsZXQubWFya2VyY2x1c3Rlci5qcyI+PC9zY3JpcHQ+CiAgICA8bGluayByZWw9InN0eWxlc2hlZXQiIGhyZWY9Imh0dHBzOi8vY2RuanMuY2xvdWRmbGFyZS5jb20vYWpheC9saWJzL2xlYWZsZXQubWFya2VyY2x1c3Rlci8xLjEuMC9NYXJrZXJDbHVzdGVyLmNzcyIvPgogICAgPGxpbmsgcmVsPSJzdHlsZXNoZWV0IiBocmVmPSJodHRwczovL2NkbmpzLmNsb3VkZmxhcmUuY29tL2FqYXgvbGlicy9sZWFmbGV0Lm1hcmtlcmNsdXN0ZXIvMS4xLjAvTWFya2VyQ2x1c3Rlci5EZWZhdWx0LmNzcyIvPgo8L2hlYWQ+Cjxib2R5PiAgICAKICAgIAogICAgICAgICAgICA8ZGl2IGNsYXNzPSJmb2xpdW0tbWFwIiBpZD0ibWFwXzA2MjIyMGJlZTdkYTRkNjY4YmYwMjE2ZWNjZDQwNDA4IiA+PC9kaXY+CiAgICAgICAgCjwvYm9keT4KPHNjcmlwdD4gICAgCiAgICAKICAgICAgICAgICAgdmFyIG1hcF8wNjIyMjBiZWU3ZGE0ZDY2OGJmMDIxNmVjY2Q0MDQwOCA9IEwubWFwKAogICAgICAgICAgICAgICAgIm1hcF8wNjIyMjBiZWU3ZGE0ZDY2OGJmMDIxNmVjY2Q0MDQwOCIsCiAgICAgICAgICAgICAgICB7CiAgICAgICAgICAgICAgICAgICAgY2VudGVyOiBbNDQuMCwgLTczLjBdLAogICAgICAgICAgICAgICAgICAgIGNyczogTC5DUlMuRVBTRzM4NTcsCiAgICAgICAgICAgICAgICAgICAgem9vbTogNywKICAgICAgICAgICAgICAgICAgICB6b29tQ29udHJvbDogdHJ1ZSwKICAgICAgICAgICAgICAgICAgICBwcmVmZXJDYW52YXM6IGZhbHNlLAogICAgICAgICAgICAgICAgfQogICAgICAgICAgICApOwoKICAgICAgICAgICAgCgogICAgICAgIAogICAgCiAgICAgICAgICAgIHZhciB0aWxlX2xheWVyXzIxMzhhZjI1NWRkMjRlNDE5YmE4ZTI0ZDk4NjU5Yzk0ID0gTC50aWxlTGF5ZXIoCiAgICAgICAgICAgICAgICAiaHR0cHM6Ly97c30udGlsZS5vcGVuc3RyZWV0bWFwLm9yZy97en0ve3h9L3t5fS5wbmciLAogICAgICAgICAgICAgICAgeyJhdHRyaWJ1dGlvbiI6ICJEYXRhIGJ5IFx1MDAyNmNvcHk7IFx1MDAzY2EgaHJlZj1cImh0dHA6Ly9vcGVuc3RyZWV0bWFwLm9yZ1wiXHUwMDNlT3BlblN0cmVldE1hcFx1MDAzYy9hXHUwMDNlLCB1bmRlciBcdTAwM2NhIGhyZWY9XCJodHRwOi8vd3d3Lm9wZW5zdHJlZXRtYXAub3JnL2NvcHlyaWdodFwiXHUwMDNlT0RiTFx1MDAzYy9hXHUwMDNlLiIsICJkZXRlY3RSZXRpbmEiOiBmYWxzZSwgIm1heE5hdGl2ZVpvb20iOiAxOCwgIm1heFpvb20iOiAxOCwgIm1pblpvb20iOiAwLCAibm9XcmFwIjogZmFsc2UsICJvcGFjaXR5IjogMSwgInN1YmRvbWFpbnMiOiAiYWJjIiwgInRtcyI6IGZhbHNlfQogICAgICAgICAgICApLmFkZFRvKG1hcF8wNjIyMjBiZWU3ZGE0ZDY2OGJmMDIxNmVjY2Q0MDQwOCk7CiAgICAgICAgCiAgICAKICAgICAgICAgICAgdmFyIG1hcmtlcl9jbHVzdGVyXzgzMGJiNjNmYjRlMDQ4ODM5NzI4YmMxODI5MTNiMDI1ID0gTC5tYXJrZXJDbHVzdGVyR3JvdXAoCiAgICAgICAgICAgICAgICB7fQogICAgICAgICAgICApOwogICAgICAgICAgICBtYXBfMDYyMjIwYmVlN2RhNGQ2NjhiZjAyMTZlY2NkNDA0MDguYWRkTGF5ZXIobWFya2VyX2NsdXN0ZXJfODMwYmI2M2ZiNGUwNDg4Mzk3MjhiYzE4MjkxM2IwMjUpOwogICAgICAgIAogICAgCiAgICAgICAgICAgIHZhciBtYXJrZXJfNDc5MDM3NGEyYWM4NGY4MWEzM2U4NjU4MGM2YTliYWIgPSBMLm1hcmtlcigKICAgICAgICAgICAgICAgIFs0My4wLCAtNzUuMF0sCiAgICAgICAgICAgICAgICB7fQogICAgICAgICAgICApLmFkZFRvKG1hcmtlcl9jbHVzdGVyXzgzMGJiNjNmYjRlMDQ4ODM5NzI4YmMxODI5MTNiMDI1KTsKICAgICAgICAKICAgIAogICAgICAgICAgICB2YXIgaWNvbl82ODUxN2FiZjhjNzE0MmFmYTMzZTg2ZWFiYTQ5MmRmZSA9IEwuQXdlc29tZU1hcmtlcnMuaWNvbigKICAgICAgICAgICAgICAgIHsiZXh0cmFDbGFzc2VzIjogImZhLXJvdGF0ZS0wIiwgImljb24iOiAib2stc2lnbiIsICJpY29uQ29sb3IiOiAid2hpdGUiLCAibWFya2VyQ29sb3IiOiAicmVkIiwgInByZWZpeCI6ICJnbHlwaGljb24ifQogICAgICAgICAgICApOwogICAgICAgICAgICBtYXJrZXJfNDc5MDM3NGEyYWM4NGY4MWEzM2U4NjU4MGM2YTliYWIuc2V0SWNvbihpY29uXzY4NTE3YWJmOGM3MTQyYWZhMzNlODZlYWJhNDkyZGZlKTsKICAgICAgICAKICAgIAogICAgICAgIHZhciBwb3B1cF83OTExNTk5ZWU1Njc0N2UzYjMwN2E0MGE1OTE0NmVmMCA9IEwucG9wdXAoeyJtYXhXaWR0aCI6ICIxMDAlIn0pOwoKICAgICAgICAKICAgICAgICAgICAgdmFyIGh0bWxfMmVlZmY1NWIyOGYyNDJjZGI2YzM4NjUzZmVmMjY2Y2QgPSAkKGA8ZGl2IGlkPSJodG1sXzJlZWZmNTViMjhmMjQyY2RiNmMzODY1M2ZlZjI2NmNkIiBzdHlsZT0id2lkdGg6IDEwMC4wJTsgaGVpZ2h0OiAxMDAuMCU7Ij5GaXJzdCBNYXJrZXI8L2Rpdj5gKVswXTsKICAgICAgICAgICAgcG9wdXBfNzkxMTU5OWVlNTY3NDdlM2IzMDdhNDBhNTkxNDZlZjAuc2V0Q29udGVudChodG1sXzJlZWZmNTViMjhmMjQyY2RiNmMzODY1M2ZlZjI2NmNkKTsKICAgICAgICAKCiAgICAgICAgbWFya2VyXzQ3OTAzNzRhMmFjODRmODFhMzNlODY1ODBjNmE5YmFiLmJpbmRQb3B1cChwb3B1cF83OTExNTk5ZWU1Njc0N2UzYjMwN2E0MGE1OTE0NmVmMCkKICAgICAgICA7CgogICAgICAgIAogICAgCiAgICAKICAgICAgICAgICAgdmFyIG1hcmtlcl83NGI3YzRjYzAxNmI0ZDk3YmM5MTNmN2NiMjVmZGQ4ZSA9IEwubWFya2VyKAogICAgICAgICAgICAgICAgWzQ1LjAsIC03My41XSwKICAgICAgICAgICAgICAgIHt9CiAgICAgICAgICAgICkuYWRkVG8obWFya2VyX2NsdXN0ZXJfODMwYmI2M2ZiNGUwNDg4Mzk3MjhiYzE4MjkxM2IwMjUpOwogICAgICAgIAogICAgCiAgICAgICAgICAgIHZhciBpY29uXzM1MzFiMjNmNjlhOTQ2NzRhOWNjMDcwZjViNDEzNzJiID0gTC5Bd2Vzb21lTWFya2Vycy5pY29uKAogICAgICAgICAgICAgICAgeyJleHRyYUNsYXNzZXMiOiAiZmEtcm90YXRlLTAiLCAiaWNvbiI6ICJyZW1vdmUtc2lnbiIsICJpY29uQ29sb3IiOiAid2hpdGUiLCAibWFya2VyQ29sb3IiOiAicmVkIiwgInByZWZpeCI6ICJnbHlwaGljb24ifQogICAgICAgICAgICApOwogICAgICAgICAgICBtYXJrZXJfNzRiN2M0Y2MwMTZiNGQ5N2JjOTEzZjdjYjI1ZmRkOGUuc2V0SWNvbihpY29uXzM1MzFiMjNmNjlhOTQ2NzRhOWNjMDcwZjViNDEzNzJiKTsKICAgICAgICAKICAgIAogICAgICAgIHZhciBwb3B1cF9iNWE2YzRmZWM1NjQ0NWE1OWU5Y2UzN2I2MDdjMDA0NSA9IEwucG9wdXAoeyJtYXhXaWR0aCI6ICIxMDAlIn0pOwoKICAgICAgICAKICAgICAgICAgICAgdmFyIGh0bWxfOTRhYjAwZGNhNmYxNDVmYzk4MzQzZTAyZWY0NGUxOTQgPSAkKGA8ZGl2IGlkPSJodG1sXzk0YWIwMGRjYTZmMTQ1ZmM5ODM0M2UwMmVmNDRlMTk0IiBzdHlsZT0id2lkdGg6IDEwMC4wJTsgaGVpZ2h0OiAxMDAuMCU7Ij5TZWNvbmQgTWFya2VyPC9kaXY+YClbMF07CiAgICAgICAgICAgIHBvcHVwX2I1YTZjNGZlYzU2NDQ1YTU5ZTljZTM3YjYwN2MwMDQ1LnNldENvbnRlbnQoaHRtbF85NGFiMDBkY2E2ZjE0NWZjOTgzNDNlMDJlZjQ0ZTE5NCk7CiAgICAgICAgCgogICAgICAgIG1hcmtlcl83NGI3YzRjYzAxNmI0ZDk3YmM5MTNmN2NiMjVmZGQ4ZS5iaW5kUG9wdXAocG9wdXBfYjVhNmM0ZmVjNTY0NDVhNTllOWNlMzdiNjA3YzAwNDUpCiAgICAgICAgOwoKICAgICAgICAKICAgIAogICAgCiAgICAgICAgICAgIHZhciBtYXJrZXJfMTkzOWI4ZTFhNGRkNDI5ODk5YWZlMzg5MTYzMTRiOWQgPSBMLm1hcmtlcigKICAgICAgICAgICAgICAgIFs0NS4wLCAtNzUuMF0sCiAgICAgICAgICAgICAgICB7fQogICAgICAgICAgICApLmFkZFRvKG1hcmtlcl9jbHVzdGVyXzgzMGJiNjNmYjRlMDQ4ODM5NzI4YmMxODI5MTNiMDI1KTsKICAgICAgICAKICAgIAogICAgICAgIHZhciBwb3B1cF9lYWUwZjAyZTYyMzU0OWY3OTNhZWQ0NWE0NzU0YTVjNCA9IEwucG9wdXAoeyJtYXhXaWR0aCI6ICIxMDAlIn0pOwoKICAgICAgICAKICAgICAgICAgICAgdmFyIGh0bWxfYjBlNDA4NTZhYWVmNDhjODliNzczYmM1YWU4MjgwNGEgPSAkKGA8ZGl2IGlkPSJodG1sX2IwZTQwODU2YWFlZjQ4Yzg5Yjc3M2JjNWFlODI4MDRhIiBzdHlsZT0id2lkdGg6IDEwMC4wJTsgaGVpZ2h0OiAxMDAuMCU7Ij5UaGlzIGlzIGEgY2x1c3RlcjwvZGl2PmApWzBdOwogICAgICAgICAgICBwb3B1cF9lYWUwZjAyZTYyMzU0OWY3OTNhZWQ0NWE0NzU0YTVjNC5zZXRDb250ZW50KGh0bWxfYjBlNDA4NTZhYWVmNDhjODliNzczYmM1YWU4MjgwNGEpOwogICAgICAgIAoKICAgICAgICBtYXJrZXJfMTkzOWI4ZTFhNGRkNDI5ODk5YWZlMzg5MTYzMTRiOWQuYmluZFBvcHVwKHBvcHVwX2VhZTBmMDJlNjIzNTQ5Zjc5M2FlZDQ1YTQ3NTRhNWM0KQogICAgICAgIDsKCiAgICAgICAgCiAgICAKPC9zY3JpcHQ+ onload=\"this.contentDocument.open();this.contentDocument.write(atob(this.getAttribute('data-html')));this.contentDocument.close();\" allowfullscreen webkitallowfullscreen mozallowfullscreen></iframe></div></div>"
     },
     "metadata": {},
     "execution_count": 2
    }
   ],
   "source": [
    "#Create a Map object from folium\n",
    "m = folium.Map([44,-73], zoom_start = 7)\n",
    "\n",
    "#Create a cluster object and add it to the map\n",
    "marker_cluster = MarkerCluster().add_to(m)\n",
    "\n",
    "#The following are markers we add the cluster\n",
    "folium.Marker(location = [43, -75],\n",
    "popup = \"First Marker\",\n",
    "icon = folium.Icon(color = 'red', icon='ok-sign')\n",
    ").add_to(marker_cluster)\n",
    "\n",
    "folium.Marker(location = [45, -73.5],\n",
    "popup = \"Second Marker\",\n",
    "icon = folium.Icon(color = 'red', icon='remove-sign')\n",
    ").add_to(marker_cluster)\n",
    "\n",
    "folium.Marker(\n",
    "    location = [45, -75],\n",
    "    popup = 'This is a cluster',\n",
    "    icon = None\n",
    ").add_to(marker_cluster)\n",
    "\n",
    "#save it to the current directory under the name:MyFirstFoliumMap.html\n",
    "m.save('MyFirstFoliumMap.html')\n",
    "\n",
    "#Zoom in and out to see what clustering does\n",
    "m\n"
   ]
  },
  {
   "cell_type": "code",
   "execution_count": null,
   "metadata": {},
   "outputs": [],
   "source": []
  }
 ],
 "metadata": {
  "kernelspec": {
   "display_name": "Python 3",
   "language": "python",
   "name": "python3"
  },
  "language_info": {
   "codemirror_mode": {
    "name": "ipython",
    "version": 3
   },
   "file_extension": ".py",
   "mimetype": "text/x-python",
   "name": "python",
   "nbconvert_exporter": "python",
   "pygments_lexer": "ipython3",
   "version": "3.7.6-final"
  }
 },
 "nbformat": 4,
 "nbformat_minor": 4
}